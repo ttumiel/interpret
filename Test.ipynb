{
 "cells": [
  {
   "cell_type": "markdown",
   "metadata": {},
   "source": [
    "# Testing\n",
    "\n",
    "Testing the visualisation and gradcam code for correctness on a toy dataset of random shapes."
   ]
  },
  {
   "cell_type": "code",
   "execution_count": 161,
   "metadata": {},
   "outputs": [],
   "source": [
    "from skimage.draw import random_shapes\n",
    "import numpy as np\n",
    "import matplotlib.pyplot as plt\n",
    "import random\n",
    "from PIL import Image, ImageDraw"
   ]
  },
  {
   "cell_type": "code",
   "execution_count": 485,
   "metadata": {},
   "outputs": [],
   "source": [
    "# coord_limits = [x_min,x_max, y_min, y_max]\n",
    "def random_shapes(size, shape, min_size, max_size, coord_limits, background, color=True):\n",
    "    # make sure that the shape will be visible within the given coord limits\n",
    "    if background==\"uniform\":\n",
    "        arr = np.ones((size, size, 3 if color else 1), dtype=\"uint8\")\n",
    "    else:\n",
    "        arr = (np.random.rand(size, size, 3 if color else 1)*255).astype(\"uint8\")\n",
    "    \n",
    "    im = Image.fromarray(arr)\n",
    "    draw = ImageDraw.Draw(im)\n",
    "    \n",
    "    def draw_circle():\n",
    "        x,y = np.random.randint(*coord_limits[:2]), np.random.randint(*coord_limits[2:])\n",
    "        length = np.random.randint(min_size, max_size)\n",
    "        coords = [x,y,x+length,y+length]\n",
    "        fill = tuple(np.random.randint(0,256,3))\n",
    "        draw.ellipse(coords, fill=fill)\n",
    "    \n",
    "    def draw_rect():\n",
    "        x,y = np.random.randint(*coord_limits[:2]), np.random.randint(*coord_limits[2:])\n",
    "        l1 = np.random.randint(min_size, max_size)\n",
    "        l2 = np.random.randint(min_size, max_size)\n",
    "        coords = [x,y,x+l1,y+l2]\n",
    "        fill = tuple(np.random.randint(0,256,3))\n",
    "        draw.rectangle(coords, fill=fill)\n",
    "        \n",
    "    def draw_tri():\n",
    "        coords = [(np.random.randint(*coord_limits[:2]), np.random.randint(*coord_limits[2:])) for _ in range(3)]\n",
    "        fill = tuple(np.random.randint(0,256,3))\n",
    "        draw.polygon(coords,fill=fill)\n",
    "        \n",
    "    SHAPES = {'rectangle': (draw_rect, 0), 'circle': (draw_circle, 1), 'triangle': (draw_tri,2)}\n",
    "    if shape is None: \n",
    "        fn, label = random.choice(list(SHAPES.values()))\n",
    "    else:\n",
    "        fn, label = SHAPES[shape]\n",
    "    fn()\n",
    "    return im, label"
   ]
  },
  {
   "cell_type": "code",
   "execution_count": 489,
   "metadata": {},
   "outputs": [
    {
     "data": {
      "image/png": "[encoded data removed]",
      "text/plain": [
       "<PIL.Image.Image image mode=RGB size=128x128 at 0x7F1B9E8373C8>"
      ]
     },
     "execution_count": 489,
     "metadata": {},
     "output_type": "execute_result"
    }
   ],
   "source": [
    "random_shapes(128, shape=None, min_size=0, max_size=100, coord_limits=[-10,128,-10,128], background='uniform')[0]"
   ]
  },
  {
   "cell_type": "code",
   "execution_count": 490,
   "metadata": {},
   "outputs": [],
   "source": [
    "import torch\n",
    "from torch import nn\n",
    "import torchvision\n",
    "from torch.utils.data import Dataset, DataLoader"
   ]
  },
  {
   "cell_type": "code",
   "execution_count": 491,
   "metadata": {},
   "outputs": [],
   "source": [
    "def conv(ni, nf, ks=3, strd=1):\n",
    "    return nn.Sequential(nn.Conv2d(ni, nf, ks, padding=ks//2, stride=strd), \n",
    "                         nn.ReLU(True))"
   ]
  },
  {
   "cell_type": "code",
   "execution_count": 514,
   "metadata": {},
   "outputs": [],
   "source": [
    "class Network(nn.Module):\n",
    "    def __init__(self):\n",
    "        super().__init__()\n",
    "        self.conv1 = conv(3, 12, strd=2)\n",
    "        self.conv2 = conv(12, 24, strd=2)\n",
    "        self.conv3 = conv(24, 36)\n",
    "        self.pool = nn.AdaptiveAvgPool2d(1)\n",
    "        self.head = nn.Linear(36, 3)\n",
    "    \n",
    "    def forward(self, x):\n",
    "        x = self.conv1(x)\n",
    "        x = self.conv2(x)\n",
    "        x = self.conv3(x)\n",
    "        x = self.head(self.pool(x).view(x.size(0),-1))\n",
    "        return x\n",
    "\n",
    "net = Network()"
   ]
  },
  {
   "cell_type": "code",
   "execution_count": 515,
   "metadata": {},
   "outputs": [],
   "source": [
    "from torchvision import transforms"
   ]
  },
  {
   "cell_type": "code",
   "execution_count": 522,
   "metadata": {},
   "outputs": [],
   "source": [
    "class RandomShape(Dataset):\n",
    "    def __init__(self, size, ds_length, tfms=None):\n",
    "        self.size = size\n",
    "        self.l = ds_length\n",
    "        \n",
    "    def __len__(self):\n",
    "        return self.l\n",
    "    \n",
    "    def __getitem__(self, _):\n",
    "        s = random_shapes(self.size, shape=None, min_size=50, max_size=100, \n",
    "                             coord_limits=[-10,128,-10,128], background='uniform')\n",
    "        return tfms(s[0]),s[1] if tfms is not None else s\n",
    "    \n",
    "tfms = transforms.Compose([\n",
    "    transforms.ToTensor(),\n",
    "    transforms.Normalize([0.5,0.5,0.5],[0.5,0.5,0.5])\n",
    "])\n",
    "dataset = RandomShape(64, 1000, tfms=tfms)\n",
    "dl = DataLoader(dataset, 32)"
   ]
  },
  {
   "cell_type": "code",
   "execution_count": 539,
   "metadata": {},
   "outputs": [],
   "source": [
    "def accuracy(y_hat, y):\n",
    "    return (y_hat.argmax(-1) == y).float().mean().item()"
   ]
  },
  {
   "cell_type": "code",
   "execution_count": 540,
   "metadata": {},
   "outputs": [
    {
     "data": {
      "text/plain": [
       "[<matplotlib.lines.Line2D at 0x7f1b9e243588>]"
      ]
     },
     "execution_count": 540,
     "metadata": {},
     "output_type": "execute_result"
    },
    {
     "data": {
      "image/png": "[encoded data removed]",
      "text/plain": [
       "<Figure size 432x288 with 1 Axes>"
      ]
     },
     "metadata": {
      "needs_background": "light"
     },
     "output_type": "display_data"
    }
   ],
   "source": [
    "optim = torch.optim.Adam(net.parameters(), lr=0.1, weight_decay=1e-5)\n",
    "crit = nn.CrossEntropyLoss()\n",
    "EPOCHS = 10\n",
    "\n",
    "device=torch.device('cpu')\n",
    "losses = []\n",
    "accs = []\n",
    "for epoch in range(EPOCHS):\n",
    "    for x,y in dl:\n",
    "        x,y = x.to(device),y.to(device)\n",
    "        \n",
    "        preds = net(x)\n",
    "        loss = crit(preds, y)\n",
    "        accs.append(accuracy(preds, y))\n",
    "        losses.append(loss.item())\n",
    "        \n",
    "        loss.backward()\n",
    "        optim.step()\n",
    "        optim.zero_grad()\n",
    "        \n",
    "plt.plot(losses)"
   ]
  },
  {
   "cell_type": "code",
   "execution_count": 547,
   "metadata": {},
   "outputs": [
    {
     "data": {
      "text/plain": [
       "[<matplotlib.lines.Line2D at 0x7f1b9dfb5f60>]"
      ]
     },
     "execution_count": 547,
     "metadata": {},
     "output_type": "execute_result"
    },
    {
     "data": {
      "image/png": "[encoded data removed]",
      "text/plain": [
       "<Figure size 432x288 with 1 Axes>"
      ]
     },
     "metadata": {
      "needs_background": "light"
     },
     "output_type": "display_data"
    }
   ],
   "source": [
    "plt.plot(losses[:25])"
   ]
  },
  {
   "cell_type": "code",
   "execution_count": 543,
   "metadata": {},
   "outputs": [
    {
     "data": {
      "text/plain": [
       "[<matplotlib.lines.Line2D at 0x7f1b9e2c6b38>]"
      ]
     },
     "execution_count": 543,
     "metadata": {},
     "output_type": "execute_result"
    },
    {
     "data": {
      "image/png": "[encoded data removed]",
      "text/plain": [
       "<Figure size 432x288 with 1 Axes>"
      ]
     },
     "metadata": {
      "needs_background": "light"
     },
     "output_type": "display_data"
    }
   ],
   "source": [
    "plt.plot(accs)"
   ]
  },
  {
   "cell_type": "code",
   "execution_count": 544,
   "metadata": {},
   "outputs": [],
   "source": [
    "test_im, test_lb = next(iter(dl))"
   ]
  },
  {
   "cell_type": "code",
   "execution_count": 545,
   "metadata": {},
   "outputs": [
    {
     "data": {
      "text/plain": [
       "tensor([1, 1, 1, 1, 1, 1, 1, 1, 1, 1, 1, 1, 1, 1, 1, 1, 1, 1, 1, 1, 1, 1, 1, 1,\n",
       "        1, 1, 1, 1, 1, 1, 1, 1])"
      ]
     },
     "execution_count": 545,
     "metadata": {},
     "output_type": "execute_result"
    }
   ],
   "source": [
    "p = net(test_im)\n",
    "p.argmax(-1)"
   ]
  },
  {
   "cell_type": "code",
   "execution_count": 546,
   "metadata": {},
   "outputs": [
    {
     "data": {
      "text/plain": [
       "tensor([[0.0502, 0.3055, 0.1928],\n",
       "        [0.0502, 0.3055, 0.1928],\n",
       "        [0.0502, 0.3055, 0.1928],\n",
       "        [0.0502, 0.3055, 0.1928],\n",
       "        [0.0502, 0.3055, 0.1928],\n",
       "        [0.0502, 0.3055, 0.1928],\n",
       "        [0.0502, 0.3055, 0.1928],\n",
       "        [0.0502, 0.3055, 0.1928],\n",
       "        [0.0502, 0.3055, 0.1928],\n",
       "        [0.0502, 0.3055, 0.1928],\n",
       "        [0.0502, 0.3055, 0.1928],\n",
       "        [0.0502, 0.3055, 0.1928],\n",
       "        [0.0502, 0.3055, 0.1928],\n",
       "        [0.0502, 0.3055, 0.1928],\n",
       "        [0.0502, 0.3055, 0.1928],\n",
       "        [0.0502, 0.3055, 0.1928],\n",
       "        [0.0502, 0.3055, 0.1928],\n",
       "        [0.0502, 0.3055, 0.1928],\n",
       "        [0.0502, 0.3055, 0.1928],\n",
       "        [0.0502, 0.3055, 0.1928],\n",
       "        [0.0502, 0.3055, 0.1928],\n",
       "        [0.0502, 0.3055, 0.1928],\n",
       "        [0.0502, 0.3055, 0.1928],\n",
       "        [0.0502, 0.3055, 0.1928],\n",
       "        [0.0502, 0.3055, 0.1928],\n",
       "        [0.0502, 0.3055, 0.1928],\n",
       "        [0.0502, 0.3055, 0.1928],\n",
       "        [0.0502, 0.3055, 0.1928],\n",
       "        [0.0502, 0.3055, 0.1928],\n",
       "        [0.0502, 0.3055, 0.1928],\n",
       "        [0.0502, 0.3055, 0.1928],\n",
       "        [0.0502, 0.3055, 0.1928]], grad_fn=<AddmmBackward>)"
      ]
     },
     "execution_count": 546,
     "metadata": {},
     "output_type": "execute_result"
    }
   ],
   "source": [
    "p"
   ]
  },
  {
   "cell_type": "code",
   "execution_count": null,
   "metadata": {},
   "outputs": [],
   "source": []
  }
 ],
 "metadata": {
  "kernelspec": {
   "display_name": "Fastai-v1",
   "language": "python",
   "name": "fastai1"
  },
  "language_info": {
   "codemirror_mode": {
    "name": "ipython",
    "version": 3
   },
   "file_extension": ".py",
   "mimetype": "text/x-python",
   "name": "python",
   "nbconvert_exporter": "python",
   "pygments_lexer": "ipython3",
   "version": "3.7.3"
  }
 },
 "nbformat": 4,
 "nbformat_minor": 2
}
